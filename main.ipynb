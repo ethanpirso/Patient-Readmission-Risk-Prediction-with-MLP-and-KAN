{
 "cells": [
  {
   "cell_type": "markdown",
   "metadata": {},
   "source": [
    "# Introduction\n",
    "\n",
    "This project aims to leverage patient hospital data to predict readmissions using two distinct machine learning models: the Multilayer Perceptron (MLP) and the Kolmogorov-Arnold Network (KAN). The objective is to analyze and compare the performance of these models in predicting patient readmissions based on historical hospital data. This notebook is structured into several sections, including data loading, preprocessing, model training, evaluation, and a comparative analysis of the results obtained from both MLP and KAN models.\n",
    "\n",
    "The MLP model, a type of feedforward artificial neural network, consists of multiple layers of nodes in a directed graph, with each layer fully connected to the next one. It utilizes backpropagation for training the network to model the relationship between input features and the target variable (readmission).\n",
    "\n",
    "On the other hand, the KAN model represents a novel approach in machine learning, inspired by the Kolmogorov-Arnold representation theorem. It aims to capture the intrinsic geometry of data by mapping inputs to outputs through a series of functional transformations, offering a potentially more flexible and interpretable model compared to traditional neural networks.\n",
    "\n",
    "The notebook will cover the following sections:\n",
    "1. Load Data: Importing the patient data and preparing it for analysis.\n",
    "2. Prepare Data: Preprocessing steps to clean and structure the data for modeling.\n",
    "3. Model Training: Setting up the MLP and KAN models, followed by training on the preprocessed data.\n",
    "4. Evaluation: Assessing the performance of each model in terms of accuracy, precision, recall, and other relevant metrics.\n",
    "5. Results and Discussion: A comparative analysis of the MLP and KAN models based on their performance metrics, followed by insights and conclusions drawn from the study.\n",
    "\n",
    "Through this comparative study, we aim to identify the strengths and limitations of each model in the context of predicting hospital readmissions, thereby providing valuable insights into the applicability and effectiveness of advanced machine learning techniques in healthcare analytics."
   ]
  },
  {
   "cell_type": "markdown",
   "metadata": {},
   "source": [
    "## Load data"
   ]
  },
  {
   "cell_type": "code",
   "execution_count": 11,
   "metadata": {},
   "outputs": [],
   "source": [
    "import pandas as pd\n",
    "\n",
    "df = pd.read_csv('patient_data.csv')"
   ]
  },
  {
   "cell_type": "code",
   "execution_count": null,
   "metadata": {},
   "outputs": [],
   "source": [
    "# from ydata_profiling import ProfileReport\n",
    "\n",
    "# profile = ProfileReport(df, title='Profiling Report', minimal=True)\n",
    "# profile.to_file(\"data_profile.html\")"
   ]
  },
  {
   "cell_type": "markdown",
   "metadata": {},
   "source": [
    "## Prepare data"
   ]
  },
  {
   "cell_type": "code",
   "execution_count": 3,
   "metadata": {},
   "outputs": [],
   "source": [
    "from preprocessing import preprocess_data\n",
    "\n",
    "df = preprocess_data(df)"
   ]
  },
  {
   "cell_type": "code",
   "execution_count": 4,
   "metadata": {},
   "outputs": [
    {
     "data": {
      "text/html": [
       "<div>\n",
       "<style scoped>\n",
       "    .dataframe tbody tr th:only-of-type {\n",
       "        vertical-align: middle;\n",
       "    }\n",
       "\n",
       "    .dataframe tbody tr th {\n",
       "        vertical-align: top;\n",
       "    }\n",
       "\n",
       "    .dataframe thead th {\n",
       "        text-align: right;\n",
       "    }\n",
       "</style>\n",
       "<table border=\"1\" class=\"dataframe\">\n",
       "  <thead>\n",
       "    <tr style=\"text-align: right;\">\n",
       "      <th></th>\n",
       "      <th>female</th>\n",
       "      <th>age</th>\n",
       "      <th>hosplos</th>\n",
       "      <th>iculos</th>\n",
       "      <th>apache2</th>\n",
       "      <th>ADMITLOCATIONTXT</th>\n",
       "      <th>PrimaryDiagnosis</th>\n",
       "      <th>INITIALADMIT</th>\n",
       "      <th>Overflow</th>\n",
       "      <th>Mechanical.Ventilation</th>\n",
       "      <th>vasoactive</th>\n",
       "      <th>Oncatheter</th>\n",
       "      <th>OnInsulin</th>\n",
       "      <th>readmit72</th>\n",
       "    </tr>\n",
       "  </thead>\n",
       "  <tbody>\n",
       "    <tr>\n",
       "      <th>0</th>\n",
       "      <td>0.0</td>\n",
       "      <td>0.442105</td>\n",
       "      <td>0.035615</td>\n",
       "      <td>0.077110</td>\n",
       "      <td>0.505952</td>\n",
       "      <td>0.285714</td>\n",
       "      <td>0.867508</td>\n",
       "      <td>1.0</td>\n",
       "      <td>0.0</td>\n",
       "      <td>1.0</td>\n",
       "      <td>1.0</td>\n",
       "      <td>0.0</td>\n",
       "      <td>1.0</td>\n",
       "      <td>False</td>\n",
       "    </tr>\n",
       "    <tr>\n",
       "      <th>1</th>\n",
       "      <td>1.0</td>\n",
       "      <td>0.642105</td>\n",
       "      <td>0.034454</td>\n",
       "      <td>0.065550</td>\n",
       "      <td>0.321429</td>\n",
       "      <td>0.214286</td>\n",
       "      <td>0.451104</td>\n",
       "      <td>1.0</td>\n",
       "      <td>1.0</td>\n",
       "      <td>1.0</td>\n",
       "      <td>1.0</td>\n",
       "      <td>0.0</td>\n",
       "      <td>1.0</td>\n",
       "      <td>True</td>\n",
       "    </tr>\n",
       "    <tr>\n",
       "      <th>2</th>\n",
       "      <td>1.0</td>\n",
       "      <td>0.642105</td>\n",
       "      <td>0.034454</td>\n",
       "      <td>0.024676</td>\n",
       "      <td>0.410714</td>\n",
       "      <td>0.928571</td>\n",
       "      <td>0.927445</td>\n",
       "      <td>0.0</td>\n",
       "      <td>1.0</td>\n",
       "      <td>1.0</td>\n",
       "      <td>1.0</td>\n",
       "      <td>1.0</td>\n",
       "      <td>1.0</td>\n",
       "      <td>True</td>\n",
       "    </tr>\n",
       "    <tr>\n",
       "      <th>3</th>\n",
       "      <td>1.0</td>\n",
       "      <td>0.642105</td>\n",
       "      <td>0.034454</td>\n",
       "      <td>0.036309</td>\n",
       "      <td>0.392857</td>\n",
       "      <td>0.000000</td>\n",
       "      <td>0.801262</td>\n",
       "      <td>0.0</td>\n",
       "      <td>0.0</td>\n",
       "      <td>1.0</td>\n",
       "      <td>0.0</td>\n",
       "      <td>1.0</td>\n",
       "      <td>0.0</td>\n",
       "      <td>False</td>\n",
       "    </tr>\n",
       "    <tr>\n",
       "      <th>4</th>\n",
       "      <td>0.0</td>\n",
       "      <td>0.715789</td>\n",
       "      <td>0.016288</td>\n",
       "      <td>0.015912</td>\n",
       "      <td>0.303571</td>\n",
       "      <td>0.000000</td>\n",
       "      <td>0.854890</td>\n",
       "      <td>1.0</td>\n",
       "      <td>1.0</td>\n",
       "      <td>1.0</td>\n",
       "      <td>0.0</td>\n",
       "      <td>1.0</td>\n",
       "      <td>0.0</td>\n",
       "      <td>False</td>\n",
       "    </tr>\n",
       "  </tbody>\n",
       "</table>\n",
       "</div>"
      ],
      "text/plain": [
       "   female       age   hosplos    iculos   apache2  ADMITLOCATIONTXT  \\\n",
       "0     0.0  0.442105  0.035615  0.077110  0.505952          0.285714   \n",
       "1     1.0  0.642105  0.034454  0.065550  0.321429          0.214286   \n",
       "2     1.0  0.642105  0.034454  0.024676  0.410714          0.928571   \n",
       "3     1.0  0.642105  0.034454  0.036309  0.392857          0.000000   \n",
       "4     0.0  0.715789  0.016288  0.015912  0.303571          0.000000   \n",
       "\n",
       "   PrimaryDiagnosis  INITIALADMIT  Overflow  Mechanical.Ventilation  \\\n",
       "0          0.867508           1.0       0.0                     1.0   \n",
       "1          0.451104           1.0       1.0                     1.0   \n",
       "2          0.927445           0.0       1.0                     1.0   \n",
       "3          0.801262           0.0       0.0                     1.0   \n",
       "4          0.854890           1.0       1.0                     1.0   \n",
       "\n",
       "   vasoactive  Oncatheter  OnInsulin  readmit72  \n",
       "0         1.0         0.0        1.0      False  \n",
       "1         1.0         0.0        1.0       True  \n",
       "2         1.0         1.0        1.0       True  \n",
       "3         0.0         1.0        0.0      False  \n",
       "4         0.0         1.0        0.0      False  "
      ]
     },
     "execution_count": 4,
     "metadata": {},
     "output_type": "execute_result"
    }
   ],
   "source": [
    "df.head()"
   ]
  },
  {
   "cell_type": "code",
   "execution_count": 5,
   "metadata": {},
   "outputs": [],
   "source": [
    "import numpy as np\n",
    "from sklearn.model_selection import train_test_split\n",
    "\n",
    "X = df.drop(columns='readmit72')\n",
    "y = df['readmit72']\n",
    "\n",
    "# Identify indices of all positive and negative samples\n",
    "positive_indices = np.where(y.values == 1)[0]\n",
    "negative_indices = np.where(y.values == 0)[0]\n",
    "\n",
    "# Sample negative indices to match the number of positive samples\n",
    "sampled_negative_indices = np.random.choice(negative_indices, size=len(positive_indices), replace=True)\n",
    "\n",
    "# Combine and shuffle indices\n",
    "sampled_indices = np.concatenate([positive_indices, sampled_negative_indices])\n",
    "np.random.shuffle(sampled_indices)\n",
    "\n",
    "# Select sampled data from the original dataset\n",
    "X = X.values[sampled_indices]\n",
    "y = y.values[sampled_indices]\n",
    "\n",
    "X_train, X_test, y_train, y_test = train_test_split(X, y, test_size=0.2, random_state=42)"
   ]
  },
  {
   "cell_type": "code",
   "execution_count": 6,
   "metadata": {},
   "outputs": [],
   "source": [
    "from torch.utils.data import DataLoader, TensorDataset\n",
    "import torch\n",
    "\n",
    "# Convert DataFrame to PyTorch Tensors\n",
    "X_train_tensor = torch.tensor(X_train, dtype=torch.float32)\n",
    "y_train_tensor = torch.tensor(y_train, dtype=torch.float32)\n",
    "X_test_tensor = torch.tensor(X_test, dtype=torch.float32)\n",
    "y_test_tensor = torch.tensor(y_test, dtype=torch.float32)\n",
    "\n",
    "# Create TensorDatasets\n",
    "train_dataset = TensorDataset(X_train_tensor, y_train_tensor.view(-1, 1))\n",
    "test_dataset = TensorDataset(X_test_tensor, y_test_tensor.view(-1, 1))\n",
    "\n",
    "# Create DataLoaders\n",
    "train_dataloader = DataLoader(train_dataset, batch_size=6, shuffle=True, num_workers=19, persistent_workers=True)\n",
    "test_dataloader = DataLoader(test_dataset, batch_size=6, shuffle=False, num_workers=19, persistent_workers=True)"
   ]
  },
  {
   "cell_type": "markdown",
   "metadata": {},
   "source": [
    "## Cross correlation analysis"
   ]
  },
  {
   "cell_type": "code",
   "execution_count": 7,
   "metadata": {},
   "outputs": [
    {
     "data": {
      "image/png": "[encoded data removed]",
      "text/plain": [
       "<Figure size 1100x900 with 2 Axes>"
      ]
     },
     "metadata": {},
     "output_type": "display_data"
    }
   ],
   "source": [
    "import seaborn as sns\n",
    "import matplotlib.pyplot as plt\n",
    "\n",
    "# Compute the correlation matrix\n",
    "corr = np.corrcoef(X.T, y)[0:X.shape[1], X.shape[1]:]\n",
    "\n",
    "# Generate a mask for the upper triangle\n",
    "mask = np.triu(np.ones_like(corr, dtype=bool))\n",
    "\n",
    "# Set up the matplotlib figure\n",
    "f, ax = plt.subplots(figsize=(11, 9))\n",
    "\n",
    "# Generate a custom diverging colormap\n",
    "cmap = sns.diverging_palette(230, 20, as_cmap=True)\n",
    "\n",
    "# Draw the heatmap with the mask and correct aspect ratio\n",
    "sns.heatmap(corr, mask=mask, cmap=cmap, vmax=.3, center=0,\n",
    "            square=True, linewidths=.5, cbar_kws={\"shrink\": .5})\n",
    "\n",
    "plt.title('Cross Correlation Heatmap between Features and Target')\n",
    "plt.show()"
   ]
  },
  {
   "cell_type": "markdown",
   "metadata": {},
   "source": [
    "## Random forest classifier"
   ]
  },
  {
   "cell_type": "code",
   "execution_count": 8,
   "metadata": {},
   "outputs": [
    {
     "name": "stdout",
     "output_type": "stream",
     "text": [
      "Training Accuracy: 1.0\n",
      "Testing Accuracy: 0.7747252747252747\n"
     ]
    }
   ],
   "source": [
    "from sklearn.ensemble import RandomForestClassifier\n",
    "from sklearn.metrics import accuracy_score\n",
    "\n",
    "# Initialize the model\n",
    "rf = RandomForestClassifier(n_estimators=100, random_state=42)\n",
    "\n",
    "# Train the model\n",
    "rf.fit(X_train, y_train)\n",
    "\n",
    "# Make predictions\n",
    "y_train_pred = rf.predict(X_train)\n",
    "y_test_pred = rf.predict(X_test)\n",
    "\n",
    "# Calculate accuracy\n",
    "train_accuracy = accuracy_score(y_train, y_train_pred)\n",
    "test_accuracy = accuracy_score(y_test, y_test_pred)\n",
    "\n",
    "print(f\"Training Accuracy: {train_accuracy}\")\n",
    "print(f\"Testing Accuracy: {test_accuracy}\")"
   ]
  },
  {
   "cell_type": "markdown",
   "metadata": {},
   "source": [
    "## MLP"
   ]
  },
  {
   "cell_type": "code",
   "execution_count": 8,
   "metadata": {},
   "outputs": [
    {
     "name": "stderr",
     "output_type": "stream",
     "text": [
      "GPU available: True (cuda), used: True\n",
      "TPU available: False, using: 0 TPU cores\n",
      "IPU available: False, using: 0 IPUs\n"
     ]
    },
    {
     "name": "stderr",
     "output_type": "stream",
     "text": [
      "HPU available: False, using: 0 HPUs\n",
      "LOCAL_RANK: 0 - CUDA_VISIBLE_DEVICES: [0]\n",
      "\n",
      "  | Name   | Type       | Params\n",
      "--------------------------------------\n",
      "0 | layers | Sequential | 1.1 K \n",
      "--------------------------------------\n",
      "1.1 K     Trainable params\n",
      "0         Non-trainable params\n",
      "1.1 K     Total params\n",
      "0.004     Total estimated model params size (MB)\n"
     ]
    },
    {
     "data": {
      "application/vnd.jupyter.widget-view+json": {
       "model_id": "4a9ac6fb632647a4bc8656525edd0c62",
       "version_major": 2,
       "version_minor": 0
      },
      "text/plain": [
       "Training: |          | 0/? [00:00<?, ?it/s]"
      ]
     },
     "metadata": {},
     "output_type": "display_data"
    },
    {
     "name": "stderr",
     "output_type": "stream",
     "text": [
      "`Trainer.fit` stopped: `max_epochs=35` reached.\n",
      "LOCAL_RANK: 0 - CUDA_VISIBLE_DEVICES: [0]\n"
     ]
    },
    {
     "data": {
      "application/vnd.jupyter.widget-view+json": {
       "model_id": "141bc956734d4cebbcc1a2c4663f882c",
       "version_major": 2,
       "version_minor": 0
      },
      "text/plain": [
       "Testing: |          | 0/? [00:00<?, ?it/s]"
      ]
     },
     "metadata": {},
     "output_type": "display_data"
    },
    {
     "data": {
      "text/html": [
       "<pre style=\"white-space:pre;overflow-x:auto;line-height:normal;font-family:Menlo,'DejaVu Sans Mono',consolas,'Courier New',monospace\">┏━━━━━━━━━━━━━━━━━━━━━━━━━━━┳━━━━━━━━━━━━━━━━━━━━━━━━━━━┓\n",
       "┃<span style=\"font-weight: bold\">        Test metric        </span>┃<span style=\"font-weight: bold\">       DataLoader 0        </span>┃\n",
       "┡━━━━━━━━━━━━━━━━━━━━━━━━━━━╇━━━━━━━━━━━━━━━━━━━━━━━━━━━┩\n",
       "│<span style=\"color: #008080; text-decoration-color: #008080\">       test_accuracy       </span>│<span style=\"color: #800080; text-decoration-color: #800080\">    0.7417582273483276     </span>│\n",
       "│<span style=\"color: #008080; text-decoration-color: #008080\">         test_loss         </span>│<span style=\"color: #800080; text-decoration-color: #800080\">    0.5107011795043945     </span>│\n",
       "└───────────────────────────┴───────────────────────────┘\n",
       "</pre>\n"
      ],
      "text/plain": [
       "┏━━━━━━━━━━━━━━━━━━━━━━━━━━━┳━━━━━━━━━━━━━━━━━━━━━━━━━━━┓\n",
       "┃\u001b[1m \u001b[0m\u001b[1m       Test metric       \u001b[0m\u001b[1m \u001b[0m┃\u001b[1m \u001b[0m\u001b[1m      DataLoader 0       \u001b[0m\u001b[1m \u001b[0m┃\n",
       "┡━━━━━━━━━━━━━━━━━━━━━━━━━━━╇━━━━━━━━━━━━━━━━━━━━━━━━━━━┩\n",
       "│\u001b[36m \u001b[0m\u001b[36m      test_accuracy      \u001b[0m\u001b[36m \u001b[0m│\u001b[35m \u001b[0m\u001b[35m   0.7417582273483276    \u001b[0m\u001b[35m \u001b[0m│\n",
       "│\u001b[36m \u001b[0m\u001b[36m        test_loss        \u001b[0m\u001b[36m \u001b[0m│\u001b[35m \u001b[0m\u001b[35m   0.5107011795043945    \u001b[0m\u001b[35m \u001b[0m│\n",
       "└───────────────────────────┴───────────────────────────┘\n"
      ]
     },
     "metadata": {},
     "output_type": "display_data"
    },
    {
     "data": {
      "text/plain": [
       "[{'test_loss': 0.5107011795043945, 'test_accuracy': 0.7417582273483276}]"
      ]
     },
     "execution_count": 8,
     "metadata": {},
     "output_type": "execute_result"
    }
   ],
   "source": [
    "from MLP import MLP\n",
    "import pytorch_lightning as pl\n",
    "\n",
    "model = MLP()\n",
    "trainer = pl.Trainer(max_epochs=35)\n",
    "trainer.fit(model, train_dataloader)\n",
    "trainer.test(model, test_dataloader)"
   ]
  },
  {
   "cell_type": "markdown",
   "metadata": {},
   "source": [
    "## KAN"
   ]
  },
  {
   "cell_type": "code",
   "execution_count": 10,
   "metadata": {},
   "outputs": [
    {
     "name": "stderr",
     "output_type": "stream",
     "text": [
      "GPU available: True (cuda), used: True\n",
      "TPU available: False, using: 0 TPU cores\n",
      "IPU available: False, using: 0 IPUs\n",
      "HPU available: False, using: 0 HPUs\n",
      "You are using a CUDA device ('NVIDIA GeForce RTX 4060 Laptop GPU') that has Tensor Cores. To properly utilize them, you should set `torch.set_float32_matmul_precision('medium' | 'high')` which will trade-off precision for performance. For more details, read https://pytorch.org/docs/stable/generated/torch.set_float32_matmul_precision.html#torch.set_float32_matmul_precision\n"
     ]
    },
    {
     "name": "stdout",
     "output_type": "stream",
     "text": [
      "WARNING:tensorflow:From c:\\Users\\ethan\\AppData\\Local\\Programs\\Python\\Python311\\Lib\\site-packages\\keras\\src\\losses.py:2976: The name tf.losses.sparse_softmax_cross_entropy is deprecated. Please use tf.compat.v1.losses.sparse_softmax_cross_entropy instead.\n",
      "\n"
     ]
    },
    {
     "name": "stderr",
     "output_type": "stream",
     "text": [
      "LOCAL_RANK: 0 - CUDA_VISIBLE_DEVICES: [0]\n",
      "\n",
      "  | Name         | Type     | Params\n",
      "------------------------------------------\n",
      "0 | kan1         | KANLayer | 221   \n",
      "  | other params | n/a      | 2     \n",
      "------------------------------------------\n",
      "132       Trainable params\n",
      "91        Non-trainable params\n",
      "223       Total params\n",
      "0.001     Total estimated model params size (MB)\n"
     ]
    },
    {
     "data": {
      "application/vnd.jupyter.widget-view+json": {
       "model_id": "1241ec9bd5fe4e3fa1e246761cbc805f",
       "version_major": 2,
       "version_minor": 0
      },
      "text/plain": [
       "Training: |          | 0/? [00:00<?, ?it/s]"
      ]
     },
     "metadata": {},
     "output_type": "display_data"
    },
    {
     "name": "stderr",
     "output_type": "stream",
     "text": [
      "`Trainer.fit` stopped: `max_epochs=35` reached.\n",
      "LOCAL_RANK: 0 - CUDA_VISIBLE_DEVICES: [0]\n"
     ]
    },
    {
     "data": {
      "application/vnd.jupyter.widget-view+json": {
       "model_id": "da6da7f9e74c44458452357e00a19985",
       "version_major": 2,
       "version_minor": 0
      },
      "text/plain": [
       "Testing: |          | 0/? [00:00<?, ?it/s]"
      ]
     },
     "metadata": {},
     "output_type": "display_data"
    },
    {
     "data": {
      "text/html": [
       "<pre style=\"white-space:pre;overflow-x:auto;line-height:normal;font-family:Menlo,'DejaVu Sans Mono',consolas,'Courier New',monospace\">┏━━━━━━━━━━━━━━━━━━━━━━━━━━━┳━━━━━━━━━━━━━━━━━━━━━━━━━━━┓\n",
       "┃<span style=\"font-weight: bold\">        Test metric        </span>┃<span style=\"font-weight: bold\">       DataLoader 0        </span>┃\n",
       "┡━━━━━━━━━━━━━━━━━━━━━━━━━━━╇━━━━━━━━━━━━━━━━━━━━━━━━━━━┩\n",
       "│<span style=\"color: #008080; text-decoration-color: #008080\">       test_accuracy       </span>│<span style=\"color: #800080; text-decoration-color: #800080\">    0.7802197802197802     </span>│\n",
       "│<span style=\"color: #008080; text-decoration-color: #008080\">         test_loss         </span>│<span style=\"color: #800080; text-decoration-color: #800080\">    0.5214938694959158     </span>│\n",
       "└───────────────────────────┴───────────────────────────┘\n",
       "</pre>\n"
      ],
      "text/plain": [
       "┏━━━━━━━━━━━━━━━━━━━━━━━━━━━┳━━━━━━━━━━━━━━━━━━━━━━━━━━━┓\n",
       "┃\u001b[1m \u001b[0m\u001b[1m       Test metric       \u001b[0m\u001b[1m \u001b[0m┃\u001b[1m \u001b[0m\u001b[1m      DataLoader 0       \u001b[0m\u001b[1m \u001b[0m┃\n",
       "┡━━━━━━━━━━━━━━━━━━━━━━━━━━━╇━━━━━━━━━━━━━━━━━━━━━━━━━━━┩\n",
       "│\u001b[36m \u001b[0m\u001b[36m      test_accuracy      \u001b[0m\u001b[36m \u001b[0m│\u001b[35m \u001b[0m\u001b[35m   0.7802197802197802    \u001b[0m\u001b[35m \u001b[0m│\n",
       "│\u001b[36m \u001b[0m\u001b[36m        test_loss        \u001b[0m\u001b[36m \u001b[0m│\u001b[35m \u001b[0m\u001b[35m   0.5214938694959158    \u001b[0m\u001b[35m \u001b[0m│\n",
       "└───────────────────────────┴───────────────────────────┘\n"
      ]
     },
     "metadata": {},
     "output_type": "display_data"
    },
    {
     "data": {
      "text/plain": [
       "[{'test_loss': 0.5214938694959158, 'test_accuracy': 0.7802197802197802}]"
      ]
     },
     "execution_count": 10,
     "metadata": {},
     "output_type": "execute_result"
    }
   ],
   "source": [
    "from KAN import KAN\n",
    "import pytorch_lightning as pl\n",
    "\n",
    "model = KAN()\n",
    "trainer = pl.Trainer(max_epochs=35)\n",
    "trainer.fit(model, train_dataloader)\n",
    "trainer.test(model, test_dataloader)"
   ]
  },
  {
   "cell_type": "code",
   "execution_count": 7,
   "metadata": {},
   "outputs": [
    {
     "name": "stderr",
     "output_type": "stream",
     "text": [
      "train loss: 3.69e-01 | test loss: 4.38e-01 | reg: 8.73e+00 : 100%|██| 20/20 [00:03<00:00,  5.25it/s]\n"
     ]
    },
    {
     "name": "stdout",
     "output_type": "stream",
     "text": [
      "0.8176795840263367 0.7417582273483276\n"
     ]
    },
    {
     "data": {
      "image/png": "[encoded data removed]",
      "text/plain": [
       "<Figure size 1050x420 with 14 Axes>"
      ]
     },
     "metadata": {},
     "output_type": "display_data"
    }
   ],
   "source": [
    "from kan import KAN\n",
    "\n",
    "model = KAN(width=[13, 1], grid=10, k=3)\n",
    "\n",
    "dataset = {\n",
    "    'train_input': X_train_tensor,\n",
    "    'train_label': y_train_tensor.view(-1, 1),\n",
    "    'test_input': X_test_tensor,\n",
    "    'test_label': y_test_tensor.view(-1, 1)\n",
    "}\n",
    "\n",
    "def train_acc():\n",
    "    return torch.mean((torch.round(model(dataset['train_input'])[:,0]) == dataset['train_label'][:,0]).float())\n",
    "\n",
    "def test_acc():\n",
    "    return torch.mean((torch.round(model(dataset['test_input'])[:,0]) == dataset['test_label'][:,0]).float())\n",
    "\n",
    "results = model.train(dataset, opt=\"LBFGS\", steps=20, metrics=(train_acc, test_acc));\n",
    "print(results['train_acc'][-1], results['test_acc'][-1])\n",
    "\n",
    "model.plot(beta=5, scale=1.05)"
   ]
  },
  {
   "cell_type": "code",
   "execution_count": 8,
   "metadata": {},
   "outputs": [
    {
     "name": "stdout",
     "output_type": "stream",
     "text": [
      "fixing (0,0,0) with exp, r2=1.0000000000000013\n",
      "fixing (0,1,0) with exp, r2=0.4654585171154705\n",
      "fixing (0,2,0) with x^4, r2=0.3166958325652477\n",
      "fixing (0,3,0) with sin, r2=0.7513154072850224\n",
      "fixing (0,4,0) with abs, r2=0.7923024848318273\n",
      "fixing (0,5,0) with x^4, r2=0.12585818760393824\n",
      "fixing (0,6,0) with x^4, r2=0.2890145522209567\n",
      "fixing (0,7,0) with x^4, r2=1.0000000000000016\n",
      "fixing (0,8,0) with exp, r2=1.0000000000000013\n",
      "fixing (0,9,0) with exp, r2=1.0000000000000016\n",
      "fixing (0,10,0) with exp, r2=1.0000000000000009\n",
      "fixing (0,11,0) with exp, r2=1.0000000000000016\n",
      "fixing (0,12,0) with sin, r2=0.9997860803966617\n"
     ]
    }
   ],
   "source": [
    "lib = ['x','x^2','x^3','x^4','exp','log','sqrt','tanh','sin','abs']\n",
    "model.auto_symbolic(lib=lib)"
   ]
  },
  {
   "cell_type": "code",
   "execution_count": 9,
   "metadata": {},
   "outputs": [
    {
     "data": {
      "text/latex": [
       "$\\displaystyle - 28.06 \\left(0.31 - x_{3}\\right)^{4} + 1.92 \\left(0.41 - x_{6}\\right)^{4} - 2.02 \\left(0.47 - x_{7}\\right)^{4} - 0.03 \\left(- x_{8} - 0.97\\right)^{4} + 0.08 \\sin{\\left(6.03 x_{13} + 7.78 \\right)} - 0.16 \\sin{\\left(9.86 x_{4} + 3.4 \\right)} - 0.05 \\left|{9.98 x_{5} - 2.47}\\right| + 0.34$"
      ],
      "text/plain": [
       "-28.06*(0.31 - x_3)**4 + 1.92*(0.41 - x_6)**4 - 2.02*(0.47 - x_7)**4 - 0.03*(-x_8 - 0.97)**4 + 0.08*sin(6.03*x_13 + 7.78) - 0.16*sin(9.86*x_4 + 3.4) - 0.05*Abs(9.98*x_5 - 2.47) + 0.34"
      ]
     },
     "execution_count": 9,
     "metadata": {},
     "output_type": "execute_result"
    }
   ],
   "source": [
    "formula = model.symbolic_formula()[0][0]\n",
    "formula"
   ]
  },
  {
   "cell_type": "code",
   "execution_count": 10,
   "metadata": {},
   "outputs": [
    {
     "name": "stdout",
     "output_type": "stream",
     "text": [
      "train acc of the formula: tensor([0.4959])\n",
      "test acc of the formula: tensor([0.4890])\n"
     ]
    }
   ],
   "source": [
    "import numpy as np\n",
    "\n",
    "# Test formula accuracy\n",
    "def acc(formula, X, y):\n",
    "    batch = X.shape[0]\n",
    "    correct = 0\n",
    "    for i in range(batch):\n",
    "        logit = np.round(np.array(formula.subs('x_1', X[i,0])\n",
    "                         .subs('x_2', X[i,1])\n",
    "                         .subs('x_3', X[i,2])\n",
    "                         .subs('x_4', X[i,3])\n",
    "                         .subs('x_5', X[i,4])\n",
    "                         .subs('x_6', X[i,5])\n",
    "                         .subs('x_7', X[i,6])\n",
    "                         .subs('x_8', X[i,7])\n",
    "                         .subs('x_9', X[i,8])\n",
    "                         .subs('x_10', X[i,9])\n",
    "                         .subs('x_11', X[i,10])\n",
    "                         .subs('x_12', X[i,11])\n",
    "                         .subs('x_13', X[i,12])).astype(np.float64))\n",
    "        correct += logit == y[i]\n",
    "    return correct/batch\n",
    "\n",
    "print('train acc of the formula:', acc(formula, dataset['train_input'], dataset['train_label']))\n",
    "print('test acc of the formula:', acc(formula, dataset['test_input'], dataset['test_label']))"
   ]
  },
  {
   "cell_type": "markdown",
   "metadata": {},
   "source": [
    "# Results and Discussion\n",
    " \n",
    "This section presents a comparative analysis of the test metrics obtained from the Multilayer Perceptron (MLP) and the Kolmogorov-Arnold Network (KAN) models. The primary focus is on evaluating the models' performance in predicting patient readmissions based on historical hospital data.\n",
    "\n",
    "The MLP model, with its sequential architecture, achieved a test accuracy of 0.742 and a test loss of 0.511. This model, as defined in MLP.py, consists of a series of linear and non-linear layers, culminating in a total of approximately 1.1K trainable parameters. The MLP's performance is commendable, considering the complexity of the task at hand.\n",
    "\n",
    "On the other hand, the KAN model, as implemented in KAN.py, demonstrated superior performance with a test accuracy of 0.780 and a test loss of 0.521. Remarkably, the KAN model achieved these results with significantly fewer parameters to train, totaling only 223 parameters. This stark difference in the number of parameters underscores the efficiency and effectiveness of the KAN model in capturing the intrinsic geometry of the data with a minimalistic approach.\n",
    " \n",
    "In addition to the MLP model, we also compared the KAN model's performance with that of a traditional machine learning approach, the Random Forest Classifier, which achieved a test accuracy of 0.775. This comparison further underscores the KAN model's superior performance, not only outpacing the traditional MLP model in terms of accuracy but also demonstrating higher efficiency and effectiveness than the Random Forest Classifier. With its fewer parameters, the KAN model streamlines the training process and minimizes the risk of overfitting. This efficiency, combined with its high accuracy, makes the KAN model an attractive option for tasks that demand high interpretability and generalization capabilities from limited datasets.\n",
    " \n",
    "In conclusion, while both models present viable options for predicting patient readmissions, the KAN model's superior performance and efficiency make it a standout choice. Its ability to achieve higher accuracy with significantly fewer parameters offers a promising direction for future research and application in healthcare analytics."
   ]
  }
 ],
 "metadata": {
  "kernelspec": {
   "display_name": "Python 3",
   "language": "python",
   "name": "python3"
  },
  "language_info": {
   "codemirror_mode": {
    "name": "ipython",
    "version": 3
   },
   "file_extension": ".py",
   "mimetype": "text/x-python",
   "name": "python",
   "nbconvert_exporter": "python",
   "pygments_lexer": "ipython3",
   "version": "3.11.4"
  }
 },
 "nbformat": 4,
 "nbformat_minor": 2
}
